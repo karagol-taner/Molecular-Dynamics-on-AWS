{
  "cells": [
    {
      "cell_type": "markdown",
      "metadata": {
        "id": "view-in-github",
        "colab_type": "text"
      },
      "source": [
        "<a href=\"https://colab.research.google.com/github/karagol-taner/Molecular-Dynamics-on-AWS-and-Cloud-Computing/blob/main/Colab-codes/Gromacs_CUDA_CHARMM_codes.ipynb\" target=\"_parent\"><img src=\"https://colab.research.google.com/assets/colab-badge.svg\" alt=\"Open In Colab\"/></a>"
      ]
    },
    {
      "cell_type": "code",
      "source": [
        "from google.colab import drive\n",
        "drive.mount('/content/drive')"
      ],
      "metadata": {
        "id": "-4SWV2pJpq4c"
      },
      "execution_count": null,
      "outputs": []
    },
    {
      "cell_type": "code",
      "execution_count": null,
      "metadata": {
        "id": "oGNdv9mUF6Gy"
      },
      "outputs": [],
      "source": [
        "# Install required packages\n",
        "!apt-get update\n",
        "!apt-get install -y build-essential cmake git libfftw3-dev libgsl-dev\n",
        "\n",
        "# Install CUDA (if not already installed)\n",
        "!apt-get install cuda\n",
        "\n",
        "# Check if GPU is available (optional, but useful for verification)\n",
        "!nvidia-smi"
      ]
    },
    {
      "cell_type": "code",
      "execution_count": null,
      "metadata": {
        "id": "nh7eS1tlG2yg"
      },
      "outputs": [],
      "source": [
        "# if gromacs already installed:\n",
        "!gmx --version\n",
        "\n",
        "!apt-get remove --purge gromacs\n"
      ]
    },
    {
      "cell_type": "code",
      "execution_count": null,
      "metadata": {
        "id": "8BHrg41uVPl8"
      },
      "outputs": [],
      "source": [
        "# Download the latest version of GROMACS 2024.3\n",
        "!wget https://ftp.gromacs.org/gromacs/gromacs-2024.3.tar.gz\n",
        "\n",
        "# Extract the tarball\n",
        "!tar xfz gromacs-2024.3.tar.gz\n"
      ]
    },
    {
      "cell_type": "code",
      "execution_count": null,
      "metadata": {
        "id": "Nbhr1VXxHvKt"
      },
      "outputs": [],
      "source": [
        "# Navigate to the GROMACS source directory\n",
        "%cd gromacs-2024.3\n",
        "\n",
        "# Create a build directory\n",
        "!mkdir build\n",
        "%cd build\n",
        "\n",
        "# Configure the build with CUDA (GPU) support\n",
        "!cmake .. -DGMX_BUILD_OWN_FFTW=ON -DGMX_GPU=CUDA -DCMAKE_INSTALL_PREFIX=/usr/local/gromacs\n",
        "\n",
        "# Compile the source code using all available cores\n",
        "!make -j$(nproc)\n",
        "\n",
        "# Install GROMACS\n",
        "!make install\n"
      ]
    },
    {
      "cell_type": "code",
      "execution_count": null,
      "metadata": {
        "id": "EQERpXsKH-sO"
      },
      "outputs": [],
      "source": [
        "# Manually export GROMACS binary to the PATH\n",
        "import os\n",
        "os.environ['PATH'] += \":/usr/local/gromacs/bin\"\n",
        "\n"
      ]
    },
    {
      "cell_type": "code",
      "execution_count": null,
      "metadata": {
        "id": "psyFQrNuK8VQ"
      },
      "outputs": [],
      "source": [
        "# Check GROMACS version to confirm installation\n",
        "!gmx --version\n"
      ]
    },
    {
      "cell_type": "code",
      "execution_count": null,
      "metadata": {
        "id": "39QvcfyH6tsX"
      },
      "outputs": [],
      "source": [
        "!apt-get install -y csh"
      ]
    },
    {
      "cell_type": "code",
      "source": [
        "# Change gmx_d to gmx in README file"
      ],
      "metadata": {
        "id": "kfAwsNF6ZGLD"
      },
      "execution_count": null,
      "outputs": []
    },
    {
      "cell_type": "code",
      "execution_count": null,
      "metadata": {
        "id": "ApJ9zVAcTJ1E"
      },
      "outputs": [],
      "source": [
        "%cd /content/drive/MyDrive/MD/melittin-charmm-gui/gromacs\n",
        "!chmod +x /content/drive/MyDrive/MD/melittin-charmm-gui/gromacs/README\n",
        "!csh /content/drive/MyDrive/MD/melittin-charmm-gui/gromacs/README"
      ]
    },
    {
      "cell_type": "code",
      "source": [
        "%cd /content/drive/MyDrive/MD/melittin-charmm-gui/gromacs\n",
        "!gmx mdrun -v -cpi step7_1 -deffnm step7_1"
      ],
      "metadata": {
        "id": "ZEzyPEwPaXNy"
      },
      "execution_count": null,
      "outputs": []
    },
    {
      "cell_type": "code",
      "source": [
        "!pip install colab-xterm\n",
        "%cd /content/drive/MyDrive/MD/melittin-charmm-gui/gromacs\n",
        "%load_ext colabxterm\n",
        "%xterm"
      ],
      "metadata": {
        "id": "iqrK4e2IaScG"
      },
      "execution_count": null,
      "outputs": []
    }
  ],
  "metadata": {
    "accelerator": "GPU",
    "colab": {
      "gpuType": "L4",
      "machine_shape": "hm",
      "provenance": [],
      "authorship_tag": "ABX9TyNhsv+/yKK/47/QAkHFsqkW",
      "include_colab_link": true
    },
    "kernelspec": {
      "display_name": "Python 3",
      "name": "python3"
    },
    "language_info": {
      "name": "python"
    }
  },
  "nbformat": 4,
  "nbformat_minor": 0
}