{
  "cells": [
    {
      "cell_type": "markdown",
      "metadata": {
        "id": "view-in-github",
        "colab_type": "text"
      },
      "source": [
        "<a href=\"https://colab.research.google.com/github/karagol-taner/Molecular-Dynamics-on-AWS-and-Cloud-Computing/blob/main/Colab-codes/TPU_Gromacs_MPI_72_codes.ipynb\" target=\"_parent\"><img src=\"https://colab.research.google.com/assets/colab-badge.svg\" alt=\"Open In Colab\"/></a>"
      ]
    },
    {
      "cell_type": "code",
      "execution_count": null,
      "metadata": {
        "id": "-4SWV2pJpq4c"
      },
      "outputs": [],
      "source": [
        "from google.colab import drive\n",
        "drive.mount('/content/drive')"
      ]
    },
    {
      "cell_type": "code",
      "execution_count": null,
      "metadata": {
        "id": "oGNdv9mUF6Gy"
      },
      "outputs": [],
      "source": [
        "# Install required packages\n",
        "!apt-get update\n",
        "!apt-get install -y build-essential cmake git mpi-default-bin mpi-default-dev libfftw3-dev libgsl-dev\n",
        "\n",
        "# Install tensorflow (if not already installed)\n",
        "!pip install tensorflow"
      ]
    },
    {
      "cell_type": "code",
      "execution_count": null,
      "metadata": {
        "id": "nh7eS1tlG2yg"
      },
      "outputs": [],
      "source": [
        "# if gromacs already installed:\n",
        "!gmx --version\n",
        "\n",
        "!apt-get remove --purge gromacs\n"
      ]
    },
    {
      "cell_type": "code",
      "execution_count": null,
      "metadata": {
        "id": "8BHrg41uVPl8"
      },
      "outputs": [],
      "source": [
        "# Download the latest version of GROMACS 2024.3\n",
        "!wget https://ftp.gromacs.org/gromacs/gromacs-2024.3.tar.gz\n",
        "\n",
        "# Extract the tarball\n",
        "!tar xfz gromacs-2024.3.tar.gz\n"
      ]
    },
    {
      "cell_type": "code",
      "execution_count": null,
      "metadata": {
        "id": "Nbhr1VXxHvKt"
      },
      "outputs": [],
      "source": [
        "# Navigate to the GROMACS source directory\n",
        "%cd gromacs-2024.3\n",
        "\n",
        "# Create a build directory\n",
        "!mkdir build\n",
        "%cd build\n",
        "\n",
        "# Configure the build with CUDA (GPU) support\n",
        "!cmake .. -DGMX_BUILD_OWN_FFTW=ON -DGMX_MPI=ON -DCMAKE_INSTALL_PREFIX=/usr/local/gromacs\n",
        "\n",
        "# Compile the source code using all available cores\n",
        "!make -j$(nproc)\n",
        "\n",
        "# Install GROMACS\n",
        "!make install\n"
      ]
    },
    {
      "cell_type": "code",
      "execution_count": null,
      "metadata": {
        "id": "EQERpXsKH-sO"
      },
      "outputs": [],
      "source": [
        "# Manually export GROMACS binary to the PATH\n",
        "import os\n",
        "os.environ['PATH'] += \":/usr/local/gromacs/bin\"\n",
        "\n"
      ]
    },
    {
      "cell_type": "code",
      "execution_count": null,
      "metadata": {
        "id": "psyFQrNuK8VQ"
      },
      "outputs": [],
      "source": [
        "# Check GROMACS version to confirm installation\n",
        "!gmx --version\n"
      ]
    },
    {
      "cell_type": "code",
      "execution_count": null,
      "metadata": {
        "id": "39QvcfyH6tsX"
      },
      "outputs": [],
      "source": [
        "!apt-get install -y csh"
      ]
    },
    {
      "cell_type": "code",
      "execution_count": null,
      "metadata": {
        "id": "IWyHpo7eNbUD"
      },
      "outputs": [],
      "source": [
        "!nproc\n",
        "!lscpu | grep \"^CPU(s):\"\n"
      ]
    },
    {
      "cell_type": "code",
      "execution_count": null,
      "metadata": {
        "id": "_CXC0WxpUpLF"
      },
      "outputs": [],
      "source": [
        "!gmx_mpi --version\n",
        "\n"
      ]
    },
    {
      "cell_type": "code",
      "execution_count": null,
      "metadata": {
        "id": "Puo6VmHENhcj"
      },
      "outputs": [],
      "source": [
        "# Edit README file accordingly for MPI 72"
      ]
    },
    {
      "cell_type": "code",
      "execution_count": null,
      "metadata": {
        "id": "ApJ9zVAcTJ1E"
      },
      "outputs": [],
      "source": [
        "%cd /content/drive/MyDrive/MD/melittin-charmm-gui/gromacs-14\n",
        "!chmod +x /content/drive/MyDrive/MD/melittin-charmm-gui/gromacs-14/README-bench-72-o-1\n",
        "!csh /content/drive/MyDrive/MD/melittin-charmm-gui/gromacs-14/README-bench-72-o-1 &> /content/drive/MyDrive/MD/melittin-charmm-gui/gromacs-14/simulation.log && cat /content/drive/MyDrive/MD/melittin-charmm-gui/gromacs-14/simulation.log"
      ]
    }
  ],
  "metadata": {
    "accelerator": "TPU",
    "colab": {
      "gpuType": "V28",
      "machine_shape": "hm",
      "provenance": [],
      "authorship_tag": "ABX9TyPIfAx+QsNqu+ukO8ZwATA2",
      "include_colab_link": true
    },
    "kernelspec": {
      "display_name": "Python 3",
      "name": "python3"
    },
    "language_info": {
      "name": "python"
    }
  },
  "nbformat": 4,
  "nbformat_minor": 0
}